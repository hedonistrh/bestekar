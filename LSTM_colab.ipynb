{
  "nbformat": 4,
  "nbformat_minor": 0,
  "metadata": {
    "colab": {
      "name": "LSTM_colab.ipynb",
      "version": "0.3.2",
      "views": {},
      "default_view": {},
      "provenance": [],
      "collapsed_sections": []
    },
    "kernelspec": {
      "display_name": "Python 3",
      "language": "python",
      "name": "python3"
    },
    "accelerator": "GPU"
  },
  "cells": [
    {
      "metadata": {
        "id": "Q_TzZvMRwLf_",
        "colab_type": "code",
        "colab": {
          "autoexec": {
            "startup": false,
            "wait_interval": 0
          }
        }
      },
      "cell_type": "code",
      "source": [
        "# To install package --> !pip install -q <package-name>\n",
        "\n",
        "!pip install -q keras\n",
        "!pip install -q music21\n",
        "!pip install -q numpy\n",
        "!pip install -q h5py\n",
        "!pip install -q bottleneck "
      ],
      "execution_count": 0,
      "outputs": []
    },
    {
      "metadata": {
        "id": "eUWIVnqNwOUq",
        "colab_type": "code",
        "colab": {
          "autoexec": {
            "startup": false,
            "wait_interval": 0
          }
        }
      },
      "cell_type": "code",
      "source": [
        "# Is GPU active?\n",
        "\n",
        "import tensorflow as tf\n",
        "tf.test.gpu_device_name()"
      ],
      "execution_count": 0,
      "outputs": []
    },
    {
      "metadata": {
        "id": "gg5KGhFwwP-H",
        "colab_type": "code",
        "colab": {
          "autoexec": {
            "startup": false,
            "wait_interval": 0
          }
        }
      },
      "cell_type": "code",
      "source": [
        "# Upload .npy file.\n",
        "# .npy file is used for store numpy array. \n",
        "# I will upload this file from my local storage.\n",
        "\n",
        "from google.colab import files\n",
        "\n",
        "uploaded = files.upload()\n"
      ],
      "execution_count": 0,
      "outputs": []
    },
    {
      "metadata": {
        "id": "sr5eaVqYwRsE",
        "colab_type": "code",
        "colab": {
          "autoexec": {
            "startup": false,
            "wait_interval": 0
          }
        }
      },
      "cell_type": "code",
      "source": [
        "# We need this command to use .npy file which has been uploaded.\n",
        "# We save .npy file to Drive. However, you need upload .npy file when use another vm.\n",
        "\n",
        "for name, data in uploaded.items():\n",
        "  with open(name, 'wb') as f:\n",
        "    f.write(data)\n",
        "    print ('saved file', name)"
      ],
      "execution_count": 0,
      "outputs": []
    },
    {
      "metadata": {
        "id": "yd3gF1eD78_0",
        "colab_type": "code",
        "colab": {
          "autoexec": {
            "startup": false,
            "wait_interval": 0
          }
        }
      },
      "cell_type": "code",
      "source": [
        "# Check which files in our directory.\n",
        "\n",
        "!ls"
      ],
      "execution_count": 0,
      "outputs": []
    },
    {
      "metadata": {
        "id": "7xKSocZxwS1r",
        "colab_type": "code",
        "colab": {
          "autoexec": {
            "startup": false,
            "wait_interval": 0
          }
        }
      },
      "cell_type": "code",
      "source": [
        "# Check name and size of file which has been uploaded.\n",
        "\n",
        "for fn in uploaded.keys():\n",
        "  print('User uploaded file \"{name}\" with length {length} bytes'.format(\n",
        "      name=fn, length=len(uploaded[fn])))"
      ],
      "execution_count": 0,
      "outputs": []
    },
    {
      "metadata": {
        "id": "d4hdmp6Q74Qz",
        "colab_type": "code",
        "colab": {
          "autoexec": {
            "startup": false,
            "wait_interval": 0
          }
        }
      },
      "cell_type": "code",
      "source": [
        "# Lets load our .npy file to regular numpy array.\n",
        "\n",
        "import numpy as np\n",
        "midis_array_raw = np.load(name)\n",
        "print ((midis_array_raw.shape))"
      ],
      "execution_count": 0,
      "outputs": []
    },
    {
      "metadata": {
        "id": "NAG7WZaGwVus",
        "colab_type": "code",
        "colab": {
          "autoexec": {
            "startup": false,
            "wait_interval": 0
          }
        }
      },
      "cell_type": "code",
      "source": [
        "# To see information about RAM.\n",
        "\n",
        "# !cat /proc/meminfo \n",
        "# from tensorflow.python.client import device_lib\n",
        "# device_lib.list_local_devices()"
      ],
      "execution_count": 0,
      "outputs": []
    },
    {
      "metadata": {
        "id": "6KDCFHSwwEV9",
        "colab_type": "code",
        "colab": {
          "autoexec": {
            "startup": false,
            "wait_interval": 0
          }
        }
      },
      "cell_type": "code",
      "source": [
        "# See figures inside jupyter notebook.\n",
        "%matplotlib inline \n",
        "\n",
        "%config InlineBackend.figure_format = 'retina' # for Mac"
      ],
      "execution_count": 0,
      "outputs": []
    },
    {
      "metadata": {
        "id": "n6zScNYfwEWE",
        "colab_type": "code",
        "colab": {
          "autoexec": {
            "startup": false,
            "wait_interval": 0
          }
        }
      },
      "cell_type": "code",
      "source": [
        "import glob\n",
        "import os\n",
        "import music21\n",
        "import numpy as np\n",
        "import matplotlib.pyplot as plt\n",
        "from music21 import converter, instrument, note, chord, duration, stream\n",
        "\n",
        "print (music21.__version__) #if your version is lower than 4.x.x, you will encounter with some issues. "
      ],
      "execution_count": 0,
      "outputs": []
    },
    {
      "metadata": {
        "id": "ostMXSRRwEWO",
        "colab_type": "code",
        "colab": {
          "autoexec": {
            "startup": false,
            "wait_interval": 0
          }
        }
      },
      "cell_type": "code",
      "source": [
        "def note_to_int(note): # converts the note's letter to pitch value which is integer form.\n",
        "    # source: https://musescore.org/en/plugin-development/note-pitch-values\n",
        "    # idea: https://github.com/bspaans/python-mingus/blob/master/mingus/core/notes.py\n",
        "    note_base_name = ['C', 'C#', 'D', 'D#', 'E', 'F', 'F#', 'G', 'G#', 'A', 'A#', 'B']\n",
        "    if ('#-' in note):\n",
        "        first_letter = note[0]\n",
        "        base_value = note_base_name.index(first_letter)\n",
        "        octave = note[3]\n",
        "        value = base_value + 12*(int(octave)-(-1))\n",
        "        \n",
        "    elif ('#' in note): # not totally sure, source: http://www.pianofinders.com/educational/WhatToCallTheKeys1.htm\n",
        "        first_letter = note[0]\n",
        "        base_value = note_base_name.index(first_letter)\n",
        "        octave = note[2]\n",
        "        value = base_value + 12*(int(octave)-(-1))\n",
        "        \n",
        "    elif ('-' in note): \n",
        "        first_letter = note[0]\n",
        "        base_value = note_base_name.index(first_letter)\n",
        "        octave = note[2]\n",
        "        value = base_value + 12*(int(octave)-(-1))\n",
        "        \n",
        "    else:\n",
        "        first_letter = note[0]\n",
        "        base_val = note_base_name.index(first_letter)\n",
        "        octave = note[1]\n",
        "        value = base_val + 12*(int(octave)-(-1))\n",
        "        \n",
        "    return value"
      ],
      "execution_count": 0,
      "outputs": []
    },
    {
      "metadata": {
        "id": "iMh2XbxKwEWT",
        "colab_type": "code",
        "colab": {
          "autoexec": {
            "startup": false,
            "wait_interval": 0
          }
        }
      },
      "cell_type": "code",
      "source": [
        "# Lets determine our matrix's value \n",
        "# rest --> (min_value, lower_bound)\n",
        "# continuation --> (lower_bound, upper_bound)\n",
        "# first_touch --> (upper_bound, max_value)\n",
        "\n",
        "min_value = 0.00\n",
        "lower_first = 0.00\n",
        "\n",
        "lower_second = 0.5\n",
        "upper_first = 0.5\n",
        "\n",
        "upper_second = 1.0\n",
        "max_value = 1.0\n",
        "\n",
        "def notes_to_matrix(notes, durations, offsets, min_value=min_value, lower_first=lower_first,\n",
        "                    lower_second=lower_second,\n",
        "                    upper_first=upper_first, upper_second=upper_second,\n",
        "                    max_value=max_value):\n",
        "    \n",
        "    # I want to represent my notes in matrix form. X axis will represent time, Y axis will represent pitch values.\n",
        "    # I should normalize my matrix between 0 and 1.\n",
        "    # So that I will represent rest with (min_value, lower_first), continuation with [lower_second, upper_first]\n",
        "    # and first touch with (upper_second, max_value)\n",
        "    # First touch means that you press the note and it cause to 1 time duration playing. Continuation\n",
        "    # represent the continuum of this note playing. \n",
        "    \n",
        "    try:\n",
        "        last_offset = int(offsets[-1]) \n",
        "    except IndexError:\n",
        "        print ('Index Error')\n",
        "        return (None, None, None)\n",
        "    \n",
        "    total_offset_axis = last_offset * 4 + (8 * 4) \n",
        "    our_matrix = np.random.uniform(min_value, lower_first, (128, int(total_offset_axis))) \n",
        "    # creates matrix and fills with (-1, -0.3), this values will represent the rest.\n",
        "    \n",
        "    for (note, duration, offset) in zip(notes, durations, offsets):\n",
        "        how_many = int(float(duration)/0.25) # indicates time duration for single note.\n",
        "       \n",
        "        \n",
        "        # Define difference between single and double note.\n",
        "        # I have choose the value for first touch, the another value for continuation.\n",
        "        # Lets make it randomize\n",
        "        \n",
        "        # I choose to use uniform distrubition. Maybe, you can use another distrubition like Gaussian.\n",
        "        # I will try \n",
        "        first_touch = np.random.uniform(upper_second, max_value, 1)\n",
        "        continuation = np.random.uniform(lower_second, upper_first, 1)\n",
        "        \n",
        "        if ('.' not in str(note)): # It is not chord. Single note.\n",
        "            our_matrix[note, int(offset * 4)] = first_touch\n",
        "            our_matrix[note, int((offset * 4) + 1) : int((offset * 4) + how_many)] = continuation\n",
        "\n",
        "        else: # For chord\n",
        "            chord_notes_str = [note for note in note.split('.')] \n",
        "            chord_notes_float = list(map(int, chord_notes_str)) # Take notes in chord one by one\n",
        "\n",
        "            for chord_note_float in chord_notes_float:\n",
        "                our_matrix[chord_note_float, int(offset * 4)] = first_touch\n",
        "                our_matrix[chord_note_float, int((offset * 4) + 1) : int((offset * 4) + how_many)] = continuation\n",
        "                \n",
        "    return our_matrix\n",
        "\n",
        "def check_float(duration): # This function fix the issue which comes from some note's duration. \n",
        "                           # For instance some note has duration like 14/3 or 7/3. \n",
        "    if ('/' in duration):\n",
        "        numerator = float(duration.split('/')[0])\n",
        "        denominator = float(duration.split('/')[1])\n",
        "        duration = str(float(numerator/denominator))\n",
        "    return duration"
      ],
      "execution_count": 0,
      "outputs": []
    },
    {
      "metadata": {
        "id": "q2mDnqhBwEWY",
        "colab_type": "code",
        "colab": {
          "autoexec": {
            "startup": false,
            "wait_interval": 0
          }
        }
      },
      "cell_type": "code",
      "source": [
        "def midi_to_matrix(filename, length=250): # Convert midi file to matrix for DL architecture.\n",
        "    \n",
        "    midi = music21.converter.parse(filename)\n",
        "    notes_to_parse = None\n",
        "    \n",
        "    parts = music21.instrument.partitionByInstrument(midi)\n",
        "    \n",
        "    instrument_names = []\n",
        "    \n",
        "    try:\n",
        "        for instrument in parts: # Learn names of instruments.\n",
        "            name = (str(instrument).split(' ')[-1])[:-1]\n",
        "            instrument_names.append(name)\n",
        "    \n",
        "    except TypeError:\n",
        "        print ('Type is not iterable.')\n",
        "        return None\n",
        "    \n",
        "    # Just take piano part. For the future works, we can use different instrument.\n",
        "    try:\n",
        "        piano_index = instrument_names.index('Piano')\n",
        "    except ValueError:\n",
        "        print ('%s have not any Piano part' %(filename))\n",
        "        return None\n",
        "    \n",
        "    \n",
        "    notes_to_parse = parts.parts[piano_index].recurse()\n",
        "    \n",
        "    duration_piano = float(check_float((str(notes_to_parse._getDuration()).split(' ')[-1])[:-1]))\n",
        "\n",
        "    durations = []\n",
        "    notes = []\n",
        "    offsets = []\n",
        "    \n",
        "    for element in notes_to_parse:\n",
        "        if isinstance(element, note.Note): # If it is single note\n",
        "            notes.append(note_to_int(str(element.pitch))) # Append note's integer value to \"notes\" list.\n",
        "            duration = str(element.duration)[27:-1] \n",
        "            durations.append(check_float(duration)) \n",
        "            offsets.append(element.offset)\n",
        "\n",
        "        elif isinstance(element, chord.Chord): # If it is chord\n",
        "            notes.append('.'.join(str(note_to_int(str(n)))\n",
        "                                  for n in element.pitches))\n",
        "            duration = str(element.duration)[27:-1]\n",
        "            durations.append(check_float(duration))\n",
        "            offsets.append(element.offset)\n",
        "\n",
        "    \n",
        "    \n",
        "    our_matrix = notes_to_matrix(notes, durations, offsets)\n",
        "    \n",
        "    try:\n",
        "        freq, time = our_matrix.shape\n",
        "    except AttributeError:\n",
        "        print (\"'tuple' object has no attribute 'shape'\")\n",
        "        return None\n",
        "            \n",
        "    if (time >= length):\n",
        "        return (our_matrix[:,:length]) # We have to set all individual note matrix to same shape for Generative DL.\n",
        "    else:\n",
        "        print ('%s have not enough duration' %(filename))\n",
        "             "
      ],
      "execution_count": 0,
      "outputs": []
    },
    {
      "metadata": {
        "id": "-D-m8xnGwEWc",
        "colab_type": "code",
        "colab": {
          "autoexec": {
            "startup": false,
            "wait_interval": 0
          }
        }
      },
      "cell_type": "code",
      "source": [
        "def int_to_note(integer):\n",
        "    # Convert pitch value to the note which is a letter form. \n",
        "    note_base_name = ['C', 'C#', 'D', 'D#', 'E', 'F', 'F#', 'G', 'G#', 'A', 'A#', 'B']\n",
        "    octave_detector = (integer // 12) \n",
        "    base_name_detector = (integer % 12) \n",
        "    note = note_base_name[base_name_detector] + str((int(octave_detector))-1)\n",
        "    if ('-' in note):\n",
        "      note = note_base_name[base_name_detector] + str(0)\n",
        "      return note\n",
        "    return note\n",
        "\n",
        "# PAY ATTENTION. From matrix form to midi form, I have to indicate first touch, continuation and rest with unique numbers.\n",
        "# I choose -1.0 for rest , 0 for continuation and 1 for first touch.\n",
        "\n",
        "lower_bound = (lower_first + lower_second) / 2\n",
        "upper_bound = (upper_first + upper_second) / 2\n",
        "\n",
        "def converter_func(arr,first_touch = 1.0, continuation = 0.0, lower_bound = lower_bound, upper_bound = upper_bound):\n",
        "    # I can write this function thanks to https://stackoverflow.com/questions/16343752/numpy-where-function-multiple-conditions\n",
        "    # First touch represent start for note, continuation represent continuation for first touch, 0 represent end or rest\n",
        "    np.place(arr, arr < lower_bound, -1.0)\n",
        "    np.place(arr, (lower_bound <= arr) & (arr < upper_bound), 0.0)\n",
        "    np.place(arr, arr >= upper_bound, 1.0)\n",
        "    return arr\n",
        "\n",
        "def how_many_repetitive_func(array, from_where=0, continuation=0.0):\n",
        "    new_array = array[from_where:]\n",
        "    count_repetitive = 1 \n",
        "    for i in new_array:\n",
        "        if (i != continuation):\n",
        "            return (count_repetitive)\n",
        "        else:\n",
        "            count_repetitive += 1\n",
        "    return (count_repetitive)\n",
        "\n",
        "def matrix_to_midi(matrix, random=0):\n",
        "    first_touch = 1.0\n",
        "    continuation = 0.0\n",
        "    y_axis, x_axis = matrix.shape\n",
        "    output_notes = []\n",
        "    offset = 0\n",
        "        \n",
        "    # Delete rows until the row which include 'first_touch'\n",
        "    how_many_in_start_zeros = 0\n",
        "    for x_axis_num in range(x_axis):\n",
        "        one_time_interval = matrix[:,x_axis_num] # Values in a column.\n",
        "        one_time_interval_norm = converter_func(one_time_interval)\n",
        "        if (first_touch not in one_time_interval_norm):\n",
        "            how_many_in_start_zeros += 1\n",
        "        else:\n",
        "            break\n",
        "            \n",
        "    how_many_in_end_zeros = 0\n",
        "    for x_axis_num in range(x_axis-1,0,-1):\n",
        "        one_time_interval = matrix[:,x_axis_num] # values in a column\n",
        "        one_time_interval_norm = converter_func(one_time_interval)\n",
        "        if (first_touch not in one_time_interval_norm):\n",
        "            how_many_in_end_zeros += 1\n",
        "        else:\n",
        "            break\n",
        "        \n",
        "    print ('How many rows for non-start note at beginning:', how_many_in_start_zeros)\n",
        "    print ('How many rows for non-start note at end:', how_many_in_end_zeros)\n",
        "\n",
        "    matrix = matrix[:,how_many_in_start_zeros:]\n",
        "    y_axis, x_axis = matrix.shape\n",
        "    print (y_axis, x_axis)\n",
        "\n",
        "    for y_axis_num in range(y_axis):\n",
        "        one_freq_interval = matrix[y_axis_num,:] # Values in a row.\n",
        "        \n",
        "        one_freq_interval_norm = converter_func(one_freq_interval)\n",
        "        \n",
        "        i = 0        \n",
        "        offset = 0\n",
        "        \n",
        "        if (random):\n",
        "          \n",
        "          while (i < len(one_freq_interval)):\n",
        "              how_many_repetitive = 0\n",
        "              temp_i = i\n",
        "              if (one_freq_interval_norm[i] == first_touch):\n",
        "                  how_many_repetitive = how_many_repetitive_func(one_freq_interval_norm, from_where=i+1, continuation=continuation)\n",
        "                  i += how_many_repetitive \n",
        "\n",
        "              if (how_many_repetitive > 0):\n",
        "                  random_num = np.random.randint(1,4)\n",
        "                  new_note = note.Note(int_to_note(y_axis_num),duration=duration.Duration(0.25*random_num*how_many_repetitive))\n",
        "                  new_note.offset = 0.25*temp_i*2\n",
        "                  new_note.storedInstrument = instrument.Piano()\n",
        "                  output_notes.append(new_note)\n",
        "              else:\n",
        "                  i += 1\n",
        "        \n",
        "          \n",
        "        else:\n",
        "          \n",
        "          while (i < len(one_freq_interval)):\n",
        "              how_many_repetitive = 0\n",
        "              temp_i = i\n",
        "              if (one_freq_interval_norm[i] == first_touch):\n",
        "                  how_many_repetitive = how_many_repetitive_func(one_freq_interval_norm, from_where=i+1, continuation=continuation)\n",
        "                  i += how_many_repetitive \n",
        "\n",
        "              if (how_many_repetitive > 0):\n",
        "                  new_note = note.Note(int_to_note(y_axis_num),duration=duration.Duration(0.25*how_many_repetitive))\n",
        "                  new_note.offset = 0.25*temp_i\n",
        "                  new_note.storedInstrument = instrument.Piano()\n",
        "                  output_notes.append(new_note)\n",
        "              else:\n",
        "                  i += 1\n",
        "        \n",
        "    return output_notes"
      ],
      "execution_count": 0,
      "outputs": []
    },
    {
      "metadata": {
        "id": "LXfv_kFgwEWz",
        "colab_type": "text"
      },
      "cell_type": "markdown",
      "source": [
        "## One-Hot Encode tarzında yapalım."
      ]
    },
    {
      "metadata": {
        "id": "KHu8Md-2-Sw1",
        "colab_type": "code",
        "colab": {
          "autoexec": {
            "startup": false,
            "wait_interval": 0
          }
        }
      },
      "cell_type": "code",
      "source": [
        "# Midis array shape --> (# of file, # of frx.eq, # of time in a single file)\n",
        "# Firtly, I will convert to (# of file, # of time in a single file, # of freq,)\n",
        "\n",
        "midis_array = np.transpose(midis_array_raw, (0, 2, 1)) \n",
        "midis_array = np.asarray(midis_array)\n",
        "midis_array.shape"
      ],
      "execution_count": 0,
      "outputs": []
    },
    {
      "metadata": {
        "id": "DnZWRmaJ-V9E",
        "colab_type": "code",
        "colab": {
          "autoexec": {
            "startup": false,
            "wait_interval": 0
          }
        }
      },
      "cell_type": "code",
      "source": [
        "# Secondly, convert to (# of freq, # of file * # of time in a single file)\n",
        "\n",
        "midis_array = np.reshape(midis_array,(-1,128))\n",
        "midis_array.shape"
      ],
      "execution_count": 0,
      "outputs": []
    },
    {
      "metadata": {
        "id": "I9gP5pK_-X6y",
        "colab_type": "code",
        "colab": {
          "autoexec": {
            "startup": false,
            "wait_interval": 0
          }
        }
      },
      "cell_type": "code",
      "source": [
        "max_len = 18 # how many column will take account to predict next column.\n",
        "step = 1 # step size.\n",
        "\n",
        "# ADD ILLUSTRATION ABOUT THIS PROCESS.\n",
        "\n",
        "previous_full = []\n",
        "predicted_full = []\n",
        "\n",
        "for i in range (0, midis_array.shape[0]-max_len, step):\n",
        "    prev = midis_array[i:i+max_len,...] # take max_len column.\n",
        "    pred = midis_array[i+max_len,...] # take (max_len)th column.\n",
        "    previous_full.append(prev)\n",
        "    predicted_full.append(pred)"
      ],
      "execution_count": 0,
      "outputs": []
    },
    {
      "metadata": {
        "id": "8VE_ePG1-aqP",
        "colab_type": "code",
        "colab": {
          "autoexec": {
            "startup": false,
            "wait_interval": 0
          }
        }
      },
      "cell_type": "code",
      "source": [
        "previous_full = np.asarray(previous_full).astype('float64')\n",
        "predicted_full = np.asarray (predicted_full).astype('float64')"
      ],
      "execution_count": 0,
      "outputs": []
    },
    {
      "metadata": {
        "id": "bcFEbpm3-fHT",
        "colab_type": "code",
        "colab": {
          "autoexec": {
            "startup": false,
            "wait_interval": 0
          }
        }
      },
      "cell_type": "code",
      "source": [
        "num_of_sample, max_len, freq = previous_full.shape\n",
        "\n",
        "print (previous_full.shape)\n",
        "print (predicted_full.shape)"
      ],
      "execution_count": 0,
      "outputs": []
    },
    {
      "metadata": {
        "id": "2mwxzvxzNDD0",
        "colab_type": "code",
        "colab": {
          "autoexec": {
            "startup": false,
            "wait_interval": 0
          }
        }
      },
      "cell_type": "code",
      "source": [
        "# Build our Deep Learning Architecture\n",
        "\n",
        "from keras import layers\n",
        "from keras import models\n",
        "import keras\n",
        "from keras.models import Model\n",
        "import tensorflow as tf\n",
        "from keras.layers.advanced_activations import *\n",
        "\n",
        "\n",
        "midi_shape = (max_len, 128)\n",
        "\n",
        "input_midi = keras.Input(midi_shape)\n",
        "\n",
        "x = layers.LSTM(512, return_sequences=True)(input_midi)\n",
        "x = layers.LeakyReLU()(x)\n",
        "x = layers.BatchNormalization() (x)\n",
        "x = layers.Dropout(0.4)(x)\n",
        "\n",
        "x = layers.LSTM(512, return_sequences=True)(input_midi)\n",
        "x = layers.LeakyReLU()(x)\n",
        "# x = layers.BatchNormalization() (x)\n",
        "x = layers.Dropout(0.4)(x)\n",
        "\n",
        "x = layers.Dense(256)(x)\n",
        "x = layers.LeakyReLU()(x)\n",
        "# x = layers.BatchNormalization() (x)\n",
        "x = layers.Dropout(0.4)(x)\n",
        "\n",
        "\n",
        "x = layers.LSTM(128)(x)\n",
        "x = layers.LeakyReLU()(x)\n",
        "# x = layers.BatchNormalization() (x)\n",
        "x = layers.Dropout(0.4)(x)\n",
        "\n",
        "\n",
        "x = layers.Dense(128, activation='softmax')(x) # Maybe, we can use sigmoid.\n",
        "\n",
        "model = Model(input_midi, x)"
      ],
      "execution_count": 0,
      "outputs": []
    },
    {
      "metadata": {
        "id": "iEMP6ifOOlOC",
        "colab_type": "code",
        "colab": {
          "autoexec": {
            "startup": false,
            "wait_interval": 0
          }
        }
      },
      "cell_type": "code",
      "source": [
        "model.summary()"
      ],
      "execution_count": 0,
      "outputs": []
    },
    {
      "metadata": {
        "id": "-ZYOdTW6NDqy",
        "colab_type": "code",
        "colab": {
          "autoexec": {
            "startup": false,
            "wait_interval": 0
          }
        }
      },
      "cell_type": "code",
      "source": [
        "# optimizer = keras.optimizers.Adam(lr=0.01, beta_1=0.9, beta_2=0.999, epsilon=1e-8, decay=0.0, amsgrad=False)\n",
        "# optimizer = keras.optimizers.Nadam(lr=0.01, beta_1=0.9, beta_2=0.999, epsilon=1e-8, schedule_decay=0.004)\n",
        "optimizer = keras.optimizers.SGD(lr=0.01)\n",
        "model.compile(loss='categorical_crossentropy', optimizer=optimizer)"
      ],
      "execution_count": 0,
      "outputs": []
    },
    {
      "metadata": {
        "id": "FdZpJ_Z9HU4f",
        "colab_type": "code",
        "colab": {
          "autoexec": {
            "startup": false,
            "wait_interval": 0
          }
        }
      },
      "cell_type": "code",
      "source": [
        "def sample(preds, temperature=1.0):\n",
        "    preds = np.asarray(preds).astype('float64')\n",
        "    preds = np.log(preds) / temperature\n",
        "    exp_preds = np.exp(preds)\n",
        "    preds = exp_preds / np.sum(exp_preds)\n",
        "    probas = np.random.multinomial(1, preds, 1)\n",
        "    \n",
        "    array = np.zeros(128).astype('float64')\n",
        "    array[np.argmax(probas)] = 1.0\n",
        "    \n",
        "    return array"
      ],
      "execution_count": 0,
      "outputs": []
    },
    {
      "metadata": {
        "id": "tujaclGzgc4n",
        "colab_type": "code",
        "colab": {
          "autoexec": {
            "startup": false,
            "wait_interval": 0
          }
        }
      },
      "cell_type": "code",
      "source": [
        "\n",
        "def sample_v2(preds, temperature=1.0):\n",
        "    preds = np.asarray(preds).astype('float64')\n",
        "    preds = np.log(preds) / temperature\n",
        "    exp_preds = np.exp(preds)\n",
        "    preds = exp_preds / np.sum(exp_preds)\n",
        "    \n",
        "    num_of_top = 10\n",
        "    num_of_first = np.random.randint(1,3)\n",
        "\n",
        "    ind = np.argpartition(preds, -1*num_of_top)[-1*num_of_top:]\n",
        "    top_indices_sorted = ind[np.argsort(preds[ind])]\n",
        "    \n",
        "    array = np.random.uniform(0.0, 0.0, (128)) \n",
        "    array[top_indices_sorted[0:num_of_first]] = 1.0\n",
        "    array[top_indices_sorted[num_of_first:num_of_first+4]] = 0.5\n",
        "    \n",
        "    return array"
      ],
      "execution_count": 0,
      "outputs": []
    },
    {
      "metadata": {
        "id": "twBKYZY95hVg",
        "colab_type": "code",
        "colab": {
          "autoexec": {
            "startup": false,
            "wait_interval": 0
          }
        }
      },
      "cell_type": "code",
      "source": [
        "previous_full.shape"
      ],
      "execution_count": 0,
      "outputs": []
    },
    {
      "metadata": {
        "id": "aIwprozbtXuZ",
        "colab_type": "code",
        "colab": {
          "autoexec": {
            "startup": false,
            "wait_interval": 0
          }
        }
      },
      "cell_type": "code",
      "source": [
        "import random\n",
        "import sys\n",
        "\n",
        "epoch_total = 81\n",
        "batch_size = 2\n",
        "\n",
        "\n",
        "for epoch in range(1, epoch_total): # Train model with epoch_total \n",
        "    print('Epoch:', epoch)\n",
        "    model.fit(previous_full, predicted_full, batch_size=batch_size, epochs=1,\n",
        "              shuffle=True) # verideki 1 iteration için modeli fit et\n",
        "    \n",
        "    start_index = random.randint(0, len(midis_array)- max_len - 1)\n",
        "    \n",
        "    generated_midi = midis_array[start_index: start_index + max_len]\n",
        "    \n",
        "    # print('--- Generating with seed: \"' + generated_text + '\"')\n",
        "    \n",
        "    if ((epoch%10) == 0):\n",
        "      model.save_weights('my_model_weights.h5')\n",
        "\n",
        "      for temperature in [1.2]:\n",
        "          print('------ temperature:', temperature)\n",
        "          # sys.stdout.write(generated_text)\n",
        "\n",
        "          for i in range(480):\n",
        "              samples = generated_midi[i:]\n",
        "              expanded_samples = np.expand_dims(samples, axis=0)\n",
        "              preds = model.predict(expanded_samples, verbose=0)[0]\n",
        "              preds = np.asarray(preds).astype('float64')\n",
        "\n",
        "              next_array = sample_v2(preds, temperature)\n",
        "              \n",
        "              midi_list = []\n",
        "              midi_list.append(generated_midi)\n",
        "              midi_list.append(next_array)\n",
        "              generated_midi = np.vstack(midi_list)\n",
        "              \n",
        "\n",
        "          generated_midi_final = np.transpose(generated_midi,(1,0))\n",
        "          output_notes = matrix_to_midi(generated_midi_final, random=0)\n",
        "          midi_stream = stream.Stream(output_notes)\n",
        "          midi_stream.write('midi', fp='lstm_output_v1_{}_{}.mid'.format(epoch, temperature))\n"
      ],
      "execution_count": 0,
      "outputs": []
    },
    {
      "metadata": {
        "id": "huzmKJl1EUdk",
        "colab_type": "code",
        "colab": {
          "autoexec": {
            "startup": false,
            "wait_interval": 0
          }
        }
      },
      "cell_type": "code",
      "source": [
        "for layer in model.layers:\n",
        "    lstm_weights = layer.get_weights() # list of numpy arrays\n",
        "\n",
        "lstm_weights\n",
        "# print (np.mean(lstm_weights))\n"
      ],
      "execution_count": 0,
      "outputs": []
    },
    {
      "metadata": {
        "id": "dbYcWkCKtvfk",
        "colab_type": "code",
        "colab": {
          "autoexec": {
            "startup": false,
            "wait_interval": 0
          }
        }
      },
      "cell_type": "code",
      "source": [
        "\n",
        "def sample(preds, temperature=1.0):\n",
        "    preds = np.asarray(preds).astype('float64')\n",
        "    preds = np.log(preds) / temperature\n",
        "    exp_preds = np.exp(preds)\n",
        "    preds = exp_preds / np.sum(exp_preds)\n",
        "    \n",
        "    # test!!!\n",
        "    num_of_top = 15\n",
        "    num_of_first = np.random.randint(1,2)\n",
        "    # num_of_continuation = num_of_top - num_of_first\n",
        "    # num_of_continuation = np.random.randint(10,15)\n",
        "    \n",
        "    preds [0:44] = 0 # eliminate kalın notes\n",
        "    ind = np.argpartition(preds, -1*num_of_top)[-1*num_of_top:]\n",
        "    top_indices_sorted = ind[np.argsort(preds[ind])]\n",
        "    \n",
        "    \n",
        "    array = np.random.uniform(0.0, 0.0, (128)) \n",
        "    array[top_indices_sorted[0:num_of_first]] = 1.0\n",
        "    array[top_indices_sorted[num_of_first:num_of_first+3]] = 0.5\n",
        "    # array[top_indices_sorted[np.random.randint(4,8)]] = 1.0\n",
        "\n",
        "    return array"
      ],
      "execution_count": 0,
      "outputs": []
    },
    {
      "metadata": {
        "id": "Gbm4KeSdtlz1",
        "colab_type": "code",
        "colab": {
          "autoexec": {
            "startup": false,
            "wait_interval": 0
          }
        }
      },
      "cell_type": "code",
      "source": [
        "start_index = random.randint(0, len(midis_array)- max_len - 1)\n",
        "    \n",
        "generated_midi = midis_array[start_index: start_index + max_len]"
      ],
      "execution_count": 0,
      "outputs": []
    },
    {
      "metadata": {
        "id": "049eUodeOzE2",
        "colab_type": "code",
        "colab": {
          "autoexec": {
            "startup": false,
            "wait_interval": 0
          }
        }
      },
      "cell_type": "code",
      "source": [
        "for temperature in [2.0]:\n",
        "        print('------ temperature:', temperature)\n",
        "        # sys.stdout.write(generated_text)\n",
        "\n",
        "        for i in range(440):\n",
        "            samples = generated_midi[i:]\n",
        "            # print (samples)\n",
        "            expanded_samples = np.expand_dims(samples, axis=0)\n",
        "            preds = model.predict(expanded_samples, verbose=0)[0]\n",
        "            preds = np.asarray(preds).astype('float64')\n",
        "\n",
        "            next_array = sample(preds, temperature)\n",
        "            # next_array_normalize = converter_func(arr=next_array)\n",
        "            # print (np.argmax(next_array_normalize))\n",
        "            # print (np.argmax(next_array))\n",
        "            midi_list = []\n",
        "            midi_list.append(generated_midi)\n",
        "            midi_list.append(next_array)\n",
        "            generated_midi = np.vstack(midi_list)\n",
        "            #next_array_T = np.transpose(next_array,(1,0)\n",
        "            # print (matrix_to_midi(np.expand_dims(next_array, axis=1)))\n",
        "\n",
        "\n",
        "        generated_midi_final = np.transpose(generated_midi,(1,0))\n",
        "        output_notes = matrix_to_midi(generated_midi_final, random=1)\n",
        "        midi_stream = stream.Stream(output_notes)\n",
        "        midi_stream.write('midi', fp='lstm_output_v1DENEME.mid')\n"
      ],
      "execution_count": 0,
      "outputs": []
    },
    {
      "metadata": {
        "id": "pgOestOhtkCD",
        "colab_type": "code",
        "colab": {
          "autoexec": {
            "startup": false,
            "wait_interval": 0
          }
        }
      },
      "cell_type": "code",
      "source": [
        "# To see values\n",
        "\n",
        "import bottleneck \n",
        "z = -bottleneck.partition(-preds, 7)[:7]\n",
        "print (z)"
      ],
      "execution_count": 0,
      "outputs": []
    },
    {
      "metadata": {
        "id": "9U3qgtfeY3dQ",
        "colab_type": "code",
        "colab": {
          "autoexec": {
            "startup": false,
            "wait_interval": 0
          }
        }
      },
      "cell_type": "code",
      "source": [
        "from google.colab import files\n",
        "for file in os.listdir(os.getcwd()):\n",
        "    if file.endswith(\".mid\"):\n",
        "      files.download( file )"
      ],
      "execution_count": 0,
      "outputs": []
    },
    {
      "metadata": {
        "id": "jMBlcfWatkjZ",
        "colab_type": "code",
        "colab": {
          "autoexec": {
            "startup": false,
            "wait_interval": 0
          }
        }
      },
      "cell_type": "code",
      "source": [
        "from keras.models import load_model\n",
        "\n",
        "model.save('my_model.h5')"
      ],
      "execution_count": 0,
      "outputs": []
    },
    {
      "metadata": {
        "id": "bYH1IsSztkVl",
        "colab_type": "code",
        "colab": {
          "autoexec": {
            "startup": false,
            "wait_interval": 0
          }
        }
      },
      "cell_type": "code",
      "source": [
        "model.save_weights('my_model_weights.h5')\n"
      ],
      "execution_count": 0,
      "outputs": []
    },
    {
      "metadata": {
        "id": "Eflx3MMWloTc",
        "colab_type": "code",
        "colab": {
          "autoexec": {
            "startup": false,
            "wait_interval": 0
          }
        }
      },
      "cell_type": "code",
      "source": [
        "from google.colab import files\n",
        "for file in os.listdir(os.getcwd()):\n",
        "    if file.endswith(\"s.h5\"):\n",
        "      files.download( file )"
      ],
      "execution_count": 0,
      "outputs": []
    }
  ]
}